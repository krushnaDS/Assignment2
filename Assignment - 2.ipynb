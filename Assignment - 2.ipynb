{
 "cells": [
  {
   "cell_type": "markdown",
   "id": "43120e0c",
   "metadata": {},
   "source": [
    "**Q1. How do you comment code in Python? What are the different types of comments?**\n",
    "\n",
    "-> We use # symbol to comment particular code of single line.\n",
    "\n",
    "Types of Comments -\n",
    "\n",
    "1. Single-Line Comment : Python single-line comment starts with the hashtag symbol (#) with no white spaces and lasts till the                           end of the line. If the comment exceeds one line then put a hashtag on the next line and continue the                           Python Comments. Python’s single-line comments are proved useful for supplying short explanations for                           variables, function declarations, and expressions.\n",
    "\n",
    "2. Multi-Line Comment : Python multiline comments can also be enclosed in a delimiter (“””). Again there should be no white                             space between delimiters (“””). They are useful when the comment text does not fit into one line,                               therefore needs to span across lines. This type of string literal gets ignored as it is not assigned to                         any variable."
   ]
  },
  {
   "cell_type": "markdown",
   "id": "c4b82a78",
   "metadata": {},
   "source": [
    "**Q2. What are variables in Python? How do you declare and assign values to variables?**\n",
    "\n",
    "==> Variables are containers for storing data values.Python has no command for declaring a variable.\n",
    "    A variable is created the moment you first assign a value to it.Variables do not need to be declared with any particular         type, and can even change type after they have been set.\n",
    "\n",
    "\n",
    "Example -\n",
    "\n",
    "x = 5\n",
    "y = \"John\"\n",
    "print(x)\n",
    "print(y)"
   ]
  },
  {
   "cell_type": "markdown",
   "id": "085e9e81",
   "metadata": {},
   "source": [
    "**Q3. How do you convert one data type to another in Python?**\n",
    "\n",
    "==> By using method called 'typecast' we can convert one data type to another in python.\n",
    "\n",
    "Example - a = 5\n",
    "  \n",
    "#typecast to float\n",
    "n = float(a)\n",
    "  \n",
    "print(n)\n",
    "print(type(n))"
   ]
  },
  {
   "cell_type": "markdown",
   "id": "a102b362",
   "metadata": {},
   "source": [
    "**Q4. How do you write and execute a Python script from the command line?**\n",
    "\n",
    "==> To run Python scripts with the python command, you need to open a command-line and type in the word python followed by the path to your script, just like this: \n",
    "\n",
    "$ python3 hello.py\n",
    "Hello World!\n",
    "\n",
    "If everything works okay, after you press Enter, you’ll see the phrase Hello World! on your screen. "
   ]
  },
  {
   "cell_type": "code",
   "execution_count": 4,
   "id": "86f5711e",
   "metadata": {},
   "outputs": [
    {
     "data": {
      "text/plain": [
       "[2, 3]"
      ]
     },
     "execution_count": 4,
     "metadata": {},
     "output_type": "execute_result"
    }
   ],
   "source": [
    "#Q5. Given a list my_list = [1, 2, 3, 4, 5], write the code to slice the list and obtain the sub-list [2, 3].\n",
    "my_list = [1,2,3,4,5]\n",
    "\n",
    "sub_list = my_list[1:3:1]\n",
    "sub_list"
   ]
  },
  {
   "cell_type": "markdown",
   "id": "5aa68db6",
   "metadata": {},
   "source": [
    "**Q6. What is a complex number in mathematics, and how is it represented in Python?**\n",
    "\n",
    "=> Complex numbers are the numbers that are expressed in the form of a+ib where, a,b are real numbers and  ‘i’ is an imaginary      number called “iota”. The value of i = (√-1). For example, 2+3i is a complex number, where 2 is a real number (Re) and 3i is    an imaginary number (Im)"
   ]
  },
  {
   "cell_type": "code",
   "execution_count": 5,
   "id": "bd75f956",
   "metadata": {},
   "outputs": [
    {
     "data": {
      "text/plain": [
       "25"
      ]
     },
     "execution_count": 5,
     "metadata": {},
     "output_type": "execute_result"
    }
   ],
   "source": [
    "#Q7. What is the correct way to declare a variable named age and assign the value 25 to it?**\n",
    "\n",
    "age = 25\n",
    "age"
   ]
  },
  {
   "cell_type": "code",
   "execution_count": 6,
   "id": "34e5b9f5",
   "metadata": {},
   "outputs": [
    {
     "data": {
      "text/plain": [
       "float"
      ]
     },
     "execution_count": 6,
     "metadata": {},
     "output_type": "execute_result"
    }
   ],
   "source": [
    "#Q8. Declare a variable named price and assign the value 9.99 to it. What data type does this variable belong to?\n",
    "\n",
    "price = 9.99\n",
    "type(price)"
   ]
  },
  {
   "cell_type": "code",
   "execution_count": 8,
   "id": "0c5a6bb9",
   "metadata": {},
   "outputs": [
    {
     "name": "stdout",
     "output_type": "stream",
     "text": [
      "Krushna Ganesh Devkar\n"
     ]
    }
   ],
   "source": [
    "#Q9. Create a variable named name and assign your full name to it as a string. How would you print the value of this variable?\n",
    "name = 'Krushna Ganesh Devkar'\n",
    "print(name)"
   ]
  },
  {
   "cell_type": "code",
   "execution_count": 11,
   "id": "99ce6314",
   "metadata": {},
   "outputs": [
    {
     "data": {
      "text/plain": [
       "'World!'"
      ]
     },
     "execution_count": 11,
     "metadata": {},
     "output_type": "execute_result"
    }
   ],
   "source": [
    "#Q10. Given the string \"Hello, World!\", extract the substring \"World\".\n",
    "\n",
    "str = \"Hello, World!\"\n",
    "str[7::1]"
   ]
  },
  {
   "cell_type": "code",
   "execution_count": 16,
   "id": "19d95c3f",
   "metadata": {},
   "outputs": [
    {
     "name": "stdout",
     "output_type": "stream",
     "text": [
      "You are a Student\n"
     ]
    }
   ],
   "source": [
    "#Q11. Create a variable named \"is_student\" and assign it a boolean value indicating whether you are currently a student or not.\n",
    "is_student = True\n",
    "\n",
    "if is_student:\n",
    "    print(\"You are a Student\")\n",
    "    \n",
    "elif is_student:\n",
    "    print(\"You are not a Student\")"
   ]
  },
  {
   "cell_type": "code",
   "execution_count": null,
   "id": "33076c9d",
   "metadata": {},
   "outputs": [],
   "source": []
  }
 ],
 "metadata": {
  "kernelspec": {
   "display_name": "Python 3 (ipykernel)",
   "language": "python",
   "name": "python3"
  },
  "language_info": {
   "codemirror_mode": {
    "name": "ipython",
    "version": 3
   },
   "file_extension": ".py",
   "mimetype": "text/x-python",
   "name": "python",
   "nbconvert_exporter": "python",
   "pygments_lexer": "ipython3",
   "version": "3.10.9"
  }
 },
 "nbformat": 4,
 "nbformat_minor": 5
}
